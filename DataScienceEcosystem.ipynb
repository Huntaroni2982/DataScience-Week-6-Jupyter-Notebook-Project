{
  "metadata": {
    "kernelspec": {
      "name": "python",
      "display_name": "Python (Pyodide)",
      "language": "python"
    },
    "language_info": {
      "codemirror_mode": {
        "name": "python",
        "version": 3
      },
      "file_extension": ".py",
      "mimetype": "text/x-python",
      "name": "python",
      "nbconvert_exporter": "python",
      "pygments_lexer": "ipython3",
      "version": "3.8"
    }
  },
  "nbformat_minor": 4,
  "nbformat": 4,
  "cells": [
    {
      "cell_type": "markdown",
      "source": "# Data Science Tools and Ecosystem",
      "metadata": {}
    },
    {
      "cell_type": "markdown",
      "source": "## Author\n*Hunter Hicks*",
      "metadata": {}
    },
    {
      "cell_type": "markdown",
      "source": "*In this notebook, Data Science Tools and Echosystem are summarized*",
      "metadata": {}
    },
    {
      "cell_type": "markdown",
      "source": "**Objectives:**\n+ Popular languages for Data Science\n+ Commonly used libraries used by Data Scientists\n+ Data Science tools\n+ Arithmetic expressions in Python",
      "metadata": {}
    },
    {
      "cell_type": "markdown",
      "source": "*Some of the popular languages that Data Scientists use are:*",
      "metadata": {}
    },
    {
      "cell_type": "markdown",
      "source": "1. Python",
      "metadata": {}
    },
    {
      "cell_type": "markdown",
      "source": "2. R Language",
      "metadata": {}
    },
    {
      "cell_type": "markdown",
      "source": "3. SQL (Structured Query Language)",
      "metadata": {}
    },
    {
      "cell_type": "markdown",
      "source": "*Some of the commonly used libraries used by Data Scientists include:*",
      "metadata": {}
    },
    {
      "cell_type": "markdown",
      "source": "1. Scientific Libraries: Panda and NumPy",
      "metadata": {}
    },
    {
      "cell_type": "markdown",
      "source": "2. Visualization Libraries: Matplotlib and Seaborn",
      "metadata": {}
    },
    {
      "cell_type": "markdown",
      "source": "3. Deep Learning Libraries: Tensor Flow and PyTorch",
      "metadata": {}
    },
    {
      "cell_type": "markdown",
      "source": "| Data Science Tools |\n| ------------------ |\n| Python |\n| Hadoop |\n| TensorFlow |",
      "metadata": {}
    },
    {
      "cell_type": "markdown",
      "source": "### Below are a few examples of evaluating arithmetic expressions in Python",
      "metadata": {}
    },
    {
      "cell_type": "markdown",
      "source": "*This is a simple arithmetic expression to multiply then add integers*",
      "metadata": {}
    },
    {
      "cell_type": "code",
      "source": "(3*4)+5",
      "metadata": {
        "trusted": true
      },
      "outputs": [
        {
          "execution_count": 2,
          "output_type": "execute_result",
          "data": {
            "text/plain": "17"
          },
          "metadata": {}
        }
      ],
      "execution_count": 2
    },
    {
      "cell_type": "markdown",
      "source": "(This will convert 200 minutes to hours by dividing by 60*",
      "metadata": {}
    },
    {
      "cell_type": "code",
      "source": "200/60",
      "metadata": {
        "trusted": true
      },
      "outputs": [
        {
          "execution_count": 3,
          "output_type": "execute_result",
          "data": {
            "text/plain": "3.3333333333333335"
          },
          "metadata": {}
        }
      ],
      "execution_count": 3
    },
    {
      "cell_type": "markdown",
      "source": "",
      "metadata": {}
    }
  ]
}